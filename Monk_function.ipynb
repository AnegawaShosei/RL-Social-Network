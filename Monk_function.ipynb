{
 "cells": [
  {
   "cell_type": "code",
   "execution_count": 9,
   "id": "01a8de51",
   "metadata": {
    "ExecuteTime": {
     "end_time": "2022-11-23T21:39:00.371778Z",
     "start_time": "2022-11-23T21:38:40.864699Z"
    }
   },
   "outputs": [],
   "source": [
    "import numpy as np\n",
    "import tensorflow as tf\n",
    "from tensorflow.keras import Model, Input\n",
    "from tensorflow.keras.layers import Dense, Softmax\n",
    "import matplotlib.pyplot as plt\n",
    "import networkx as nx\n",
    "from scipy.stats import ks_2samp\n",
    "from graph_utils import avg_path_length\n",
    "from graph_utils import get_cluster_coeff"
   ]
  },
  {
   "cell_type": "code",
   "execution_count": 10,
   "id": "256c355c",
   "metadata": {},
   "outputs": [
    {
     "data": {
      "text/plain": [
       "0.33942924687605547"
      ]
     },
     "execution_count": 10,
     "metadata": {},
     "output_type": "execute_result"
    }
   ],
   "source": [
    "nx.average_clustering(world.G)"
   ]
  },
  {
   "cell_type": "code",
   "execution_count": 11,
   "id": "da813bf5",
   "metadata": {
    "ExecuteTime": {
     "end_time": "2022-11-23T21:42:21.971334Z",
     "start_time": "2022-11-23T21:42:21.944309Z"
    }
   },
   "outputs": [],
   "source": [
    "#Run me\n",
    "\n",
    "nA = 5\n",
    "class Node:\n",
    "    '''kekw'''\n",
    "    def __init__(self, Q):\n",
    "        self.Q = Q #Q-func\n",
    "        self.E = [] #Experience pool\n",
    "\n",
    "def initQ(in_size, i, lr):\n",
    "    '''Initializes Q-approximator for \n",
    "     - in_size : Size of input (should be number of states + number of actions)\n",
    "     - i : \n",
    "    '''\n",
    "    input_layer = Input(shape = (in_size,))\n",
    "    dense_1 = Dense(128, activation = 'relu', use_bias = True, kernel_initializer=\"glorot_uniform\")(input_layer)\n",
    "    dense_2 = Dense(128, activation = 'relu', use_bias = True, kernel_initializer=\"glorot_uniform\")(dense_1)\n",
    "    dense_3 = Dense(64, activation = 'relu', use_bias = True, kernel_initializer=\"glorot_uniform\")(dense_2)\n",
    "    o = Dense(1, activation = None, use_bias = True, kernel_initializer=\"glorot_uniform\")(dense_3)\n",
    "    \n",
    "    Q = Model(input_layer, o, name = \"Q\" + str(i))\n",
    "\n",
    "#     def mse(y_true, y_pred):\n",
    "#         return tf.math.reduce_mean(tf.math.square(y_true - y_pred)) * 0.5\n",
    "    \n",
    "    optimizer = tf.keras.optimizers.SGD(learning_rate = lr, momentum = 0.0)\n",
    "    loss =  tf.keras.losses.MeanSquaredError()\n",
    "\n",
    "    Q.compile(loss = loss, optimizer = optimizer)\n",
    "                           \n",
    "    return Q\n",
    "\n",
    "class World:\n",
    "    def __init__(self, n, num_agents):\n",
    "        #self.state = np.zeros((num_agents, n * n)) #State, 46 x 100\n",
    "        self.state_nums = np.zeros((num_agents,), dtype = int)\n",
    "        self.n = n\n",
    "        self.G = nx.Graph()\n",
    "        self.G.add_nodes_from(range(num_agents))\n",
    "        self.num_agents = num_agents\n",
    "        \n",
    "        for m in range(num_agents): #Start agents in random states\n",
    "            r = np.random.randint(0, n * n)\n",
    "            #self.state[m, r] = 1\n",
    "            self.state_nums[m] = r\n",
    "    \n",
    "    def get_pos(self):\n",
    "        out = []\n",
    "        for i in range(self.num_agents):\n",
    "            loc = self.state_nums[i]\n",
    "            y, x = loc // self.n, loc % self.n\n",
    "            x += np.random.uniform()\n",
    "            y += np.random.uniform()\n",
    "            out.append((x, y))\n",
    "        return dict(enumerate(out, start = 0))\n",
    "        \n",
    "    def update_G(self):\n",
    "        '''\n",
    "        Searches for agents in the same state, and adds one to their edge's weight\n",
    "        Also decreases any existing connections that are not maintained's weights by 1\n",
    "        Removes any connections that have weight leq to 0\n",
    "        '''\n",
    "        updated = []\n",
    "        rewards = np.zeros((self.num_agents, 1))\n",
    "        for ag in range(self.state_nums.shape[0]): \n",
    "            #TODO: Maybe replace with np where to add edges?\n",
    "            for tg in range(self.state_nums.shape[0]):\n",
    "                #If same state, create/add weight to edge\n",
    "                if ag != tg and self.state_nums[ag] == self.state_nums[tg] and (tg, ag) not in updated: \n",
    "                    if not self.G.has_edge(ag, tg):            #^ that fixes the double counhting but if i leave it\n",
    "                        self.G.add_edge(ag, tg, weight = 1)  #it has better time complexity\n",
    "                    else:\n",
    "                        self.G.edges[ag, tg]['weight'] += 1.5 #<- thats why theyre 0.5 \n",
    "                    updated.append((ag, tg))\n",
    "                    updated.append((tg, ag))\n",
    "                    \n",
    "        for edge in self.G.edges():\n",
    "            #Decrement all unupdated edges by 1, remove if less than 0\n",
    "            if edge not in updated:\n",
    "                self.G.edges[edge]['weight'] -= 0.05\n",
    "                if self.G.edges[edge]['weight'] <= 0:\n",
    "                    self.G.remove_edge(edge[0], edge[1])\n",
    "                else:\n",
    "                    rewards[edge[0]] += self.G.edges[edge]['weight']\n",
    "                    rewards[edge[1]] += self.G.edges[edge]['weight']\n",
    "            else:\n",
    "                rewards[edge[0]] += self.G.edges[edge]['weight']\n",
    "                rewards[edge[1]] += self.G.edges[edge]['weight']\n",
    "            \n",
    "        return rewards\n",
    "    \n",
    "                    \n",
    "    def take_action(self, agent_id, a):\n",
    "        #loc = np.argmax(self.state[agent_id, :])\n",
    "        loc = self.state_nums[agent_id]\n",
    "        y, x = loc // self.n, loc % self.n\n",
    "        \n",
    "        if a == 4: #down\n",
    "            #self.state[agent_id, loc] = 0\n",
    "            #self.state[agent_id, ((y + 1) * self.n) + x] = 1\n",
    "            self.state_nums[agent_id] = ((y + 1) * self.n) + x\n",
    "        elif a == 1: #up\n",
    "           # self.state[agent_id, loc] = 0\n",
    "            #self.state[agent_id, ((y - 1) * self.n) + x] = 1\n",
    "            self.state_nums[agent_id] = ((y - 1) * self.n) + x\n",
    "        elif a == 2: #left\n",
    "            #self.state[agent_id, loc] = 0\n",
    "            #self.state[agent_id, ((y) * self.n) + x - 1] = 1\n",
    "            self.state_nums[agent_id] = ((y) * self.n) + x - 1\n",
    "        elif a == 3: #right\n",
    "            #self.state[agent_id, loc] = 0\n",
    "            #self.state[agent_id, ((y) * self.n) + x + 1] = 1  \n",
    "            self.state_nums[agent_id] = ((y) * self.n) + x + 1\n",
    "        elif a == 0: #stay\n",
    "            pass\n",
    "\n",
    "def get_legals(s, n, nA):\n",
    "    #Returns an array containig infinity if legal negative infinity if not\n",
    "    legal_moves = np.ones((nA, 1)) * np.inf\n",
    "    loc = s #np.argmax(s)\n",
    "    y, x = loc // n, loc % n\n",
    "    if y >= n - 1:\n",
    "        legal_moves[4] = -np.inf\n",
    "    if y == 0:\n",
    "        legal_moves[1] = -np.inf\n",
    "    if x == 0:\n",
    "        legal_moves[2] = -np.inf\n",
    "    if x == n - 1:\n",
    "        legal_moves[3] = -np.inf\n",
    "\n",
    "    return legal_moves\n",
    "    \n",
    "    #Make the graph pretty\n",
    "def pp_graph(GRAPH_NAME, pos):\n",
    "    #not short for pee pee graph\n",
    "    widths = nx.get_edge_attributes(GRAPH_NAME, 'weight')\n",
    "    nodelist = GRAPH_NAME.nodes()\n",
    "\n",
    "    plt.figure(figsize=(12,8))\n",
    "\n",
    "    #pos = nx.spring_layout(GRAPH_NAME)\n",
    "    nx.draw_networkx_nodes(GRAPH_NAME, pos,\n",
    "                           nodelist=nodelist,\n",
    "                           node_size=100,\n",
    "                           alpha=0.7)\n",
    "    nx.draw_networkx_edges(GRAPH_NAME, pos,\n",
    "                           edgelist = widths.keys(),\n",
    "                           width=[val*1 for val in list(widths.values())],\n",
    "                           edge_color='black',\n",
    "                           alpha=0.75)\n",
    "    plt.box(False)\n",
    "    plt.show() \n",
    "\n",
    "    \n",
    "def form_2d_graph(snums):\n",
    "    xout, yout = [], []\n",
    "    for s in snums:\n",
    "        y, x = s // n, s % n\n",
    "        xout.append((x + np.random.uniform())* 10)\n",
    "        yout.append((y + np.random.uniform()) * 10)\n",
    "    \n",
    "    return xout, yout\n",
    "\n",
    "def plot_2d_graph(x, y):\n",
    "    fig = plt.figure()\n",
    "    ax = fig.gca()\n",
    "    ax.set_xticks(np.arange(0, 100, 10))\n",
    "    ax.set_yticks(np.arange(0, 100, 10))\n",
    "    plt.scatter(x, y, s=10)\n",
    "    plt.grid()\n",
    "    plt.show()\n",
    "    \n",
    "def degree_distribution(graph, name = \"bruh\"):\n",
    "    degree_sequence = sorted((d for _, d in graph.degree()), reverse=True)\n",
    "\n",
    "    plt.figure(name, figsize=(8, 8))\n",
    "    plt.bar(*np.unique(degree_sequence, return_counts=True))\n",
    "    plt.xlabel('Degree')\n",
    "    plt.ylabel('# of Nodes')\n",
    "\n",
    "    plt.show()\n",
    "\n",
    "    "
   ]
  },
  {
   "cell_type": "code",
   "execution_count": 12,
   "id": "2426485b",
   "metadata": {
    "ExecuteTime": {
     "end_time": "2022-11-23T22:24:19.368476Z",
     "start_time": "2022-11-23T22:24:19.341452Z"
    }
   },
   "outputs": [],
   "source": [
    "def monk_it_up(epsilon_func, episode_length = 100, n = 10, y = 0.9, nAgents = 47, lr = 0.001, verbose = 1):\n",
    "    '''\n",
    "    Inputs:\n",
    "     - epsilon_func: Function taht takes a timestep first, and then an agent id i, and returns a\n",
    "                     epsilon between 0 and 1, keep in mind t starts at 0\n",
    "     - episode_length: Number of steps in an episode\n",
    "     - n: dimensions of world, will be nxn size\n",
    "     - y: discount factor\n",
    "     - nAgents: number of monkeys\n",
    "     - lr: Learning rate, controls how fast neural net learns. Careful with putting lr too high, since 0.01 makes \n",
    "           gradient bounce around super fast, leading to a lot of nan predictions\n",
    "     - verbose: \n",
    "         - if 0: prints nothing\n",
    "         - if 1: prints Z-score and KSamps\n",
    "         - if 2: prints graphs, z-score and Ksamps\n",
    "           \n",
    "    Returns:\n",
    "    world object: Object representing the world, do world.G to get the graph, or world.state_nums for current board\n",
    "                  state\n",
    "    Avg path length list: List containing average path legnths every 10 timesteps (CURRENTLY NANS)\n",
    "    clsuter_avgs: List containing average clustering coefficient every timestep\n",
    "    zs : Numpy array of z-scores at each timestep (compared to our proximity graph, lower is better)\n",
    "    samps : listo f KS-2  samples(tuples) at every timestep\n",
    "    hist_gs : Graph of every timestep\n",
    "    '''\n",
    "    p_lengths = []\n",
    "    cluster_avgs = []\n",
    "    zs = []\n",
    "    samps = []\n",
    "    hist_gs = []\n",
    "    \n",
    "    worse_graph = nx.read_adjlist(\"./prog_g.adjlist\")\n",
    "    w_degree_sequence = np.unique(sorted((d for _, d in worse_graph.degree()), reverse=True), return_counts = True)[1]\n",
    "    \n",
    "    all_actions = np.eye(nA, dtype = np.float32)\n",
    "    state = np.zeros((nA, n * n))\n",
    "    vec = np.concatenate((state, all_actions), axis = 1)\n",
    "\n",
    "    def policy(s, n, nA, epsilon, Q):\n",
    "        legal_moves = get_legals(s, n, nA)\n",
    "        #Epsilon exploration\n",
    "        if np.random.uniform() < epsilon:\n",
    "            r = np.random.randint(0, nA)\n",
    "            while legal_moves[r] != np.inf:\n",
    "                r = np.random.randint(0, nA)\n",
    "            return r\n",
    "\n",
    "        vec[:, s] = 1    \n",
    "        out = np.argmax(np.minimum(Q(vec), legal_moves))\n",
    "        vec[:, s] = 0\n",
    "\n",
    "        return out\n",
    "\n",
    "    upd_vec = np.zeros((1, n * n + nA))\n",
    "    tg_vec = np.zeros((1, n * n + nA))\n",
    "\n",
    "    def update(s, a, r, sp, gamma, Q):\n",
    "        upd_vec[0, s] = 1\n",
    "        upd_vec[0, s + a] = 1\n",
    "\n",
    "\n",
    "        tg_vec[0, sp] = 1\n",
    "        ap = policy(sp, n, nA, 0, Q)\n",
    "        tg_vec[0, ap + sp] = 1\n",
    "        Q.train_on_batch(upd_vec, r + gamma * Q(tg_vec))\n",
    "        upd_vec[0, s], upd_vec[0, s + a], tg_vec[0, sp], tg_vec[0, ap + sp]  = 0, 0, 0, 0\n",
    "        \n",
    "    agents = [Node(initQ(n * n + nA, i, lr)) for i in range(nAgents)]\n",
    "\n",
    "    world = World(n, nAgents)\n",
    "\n",
    "    for t in range(episode_length):\n",
    "        if t % 10 == 0:\n",
    "            print(f\"Iter : {t}\")\n",
    "        \n",
    "\n",
    "        for agent, i in zip(agents, range(nAgents)):\n",
    "            epsilon = epsilon_func(t, i)\n",
    "            sars = np.zeros((4,), dtype = int)\n",
    "            s = world.state_nums[i]\n",
    "            a = policy(s, n, nA, epsilon, agent.Q)\n",
    "\n",
    "            world.take_action(i, a)\n",
    "\n",
    "            sars[0] = s\n",
    "            sars[1] = a\n",
    "            sars[3] = world.state_nums[i]\n",
    "\n",
    "            agent.E.append(sars) #r will come later\n",
    "\n",
    "        R = world.update_G()\n",
    "\n",
    "        for agent, i in zip(agents, range(nAgents)):\n",
    "            agent.E[t][2] = R[i]\n",
    "            s, a, r, sp = agent.E[np.random.choice(len(agent.E))]\n",
    "            #s, a, r, sp = agent.E[t]\n",
    "            update(s, a, r, sp, y, agent.Q)\n",
    "            \n",
    "        p_len = None\n",
    "        if t % 5 == 0:\n",
    "            p_len = avg_path_length(world.G)\n",
    "            p_lengths.append(p_len)\n",
    "        if t % 5 == 0 and verbose >= 2:\n",
    "            pp_graph(world.G, world.get_pos())\n",
    "            print(f\"Average path length: {p_len}\")\n",
    "            \n",
    "        \n",
    "        degree_sequence = np.unique(sorted((d for _, d in world.G.degree()), reverse=True),\n",
    "                                    return_counts = True)[1]\n",
    "        top = (degree_sequence.mean() - w_degree_sequence.mean()) \n",
    "        bot1 = np.square(np.std(degree_sequence) / np.sqrt(degree_sequence.shape[0]))\n",
    "        bot2 = np.square(np.std(w_degree_sequence)) / np.sqrt(w_degree_sequence.shape[0])\n",
    "        z = top / np.sqrt(bot1 + bot2)\n",
    "        \n",
    "\n",
    "        zs.append(z)\n",
    "\n",
    "        s = ks_2samp(degree_sequence, w_degree_sequence)\n",
    "        samps.append(s)\n",
    "        if t % 10 == 0 and verbose >= 1:\n",
    "            print(f\"Z-score : {z}\")\n",
    "            print(f\"ks_2 sample : {s}\")\n",
    "\n",
    "        hist_gs.append(world.G.copy())\n",
    "        cluster_avgs.append(nx.average_clustering(world.G))\n",
    "        \n",
    "    return world, p_lengths, cluster_avgs, np.array(zs), samps, hist_gs"
   ]
  },
  {
   "cell_type": "code",
   "execution_count": 13,
   "id": "f9499e26",
   "metadata": {
    "ExecuteTime": {
     "end_time": "2022-11-23T22:05:05.940915Z",
     "start_time": "2022-11-23T22:05:05.928945Z"
    }
   },
   "outputs": [],
   "source": [
    "dist = [0.6, 0.6, 0.5995099040228711, 0.5991423320400244, 0.5979170920972023, 0.592934449663059, 0.5910557484173984, 0.5891362058403103, 0.5885644272003268, 0.5832142127833367, 0.5763120277721053, 0.5760261384521135, 0.5758219317949765, 0.5716969573208086, 0.560016336532571, 0.5574841739840719, 0.5562180927098224, 0.5551970594241372, 0.5514804982642434, 0.5473146824586481, 0.5438023279558913, 0.5289769246477435, 0.5287318766591791, 0.5269756994078006, 0.5211762303451093, 0.5153767612824178, 0.5021033285685114, 0.5003879926485604, 0.499244435368593, 0.4989177047171738, 0.49430263426587706, 0.48319379211762303, 0.48254033081478453, 0.4803348989177047, 0.47510720849499694, 0.46693894220951604, 0.46530528895241985, 0.4550949560955687, 0.45190933224423113, 0.4512150296099653, 0.43855421686746987, 0.42405554421074126, 0.41874617112517865, 0.4088625689197468, 0.3873391872575046, 0.3834184194404737, 0.3705942413722687, 0.3306922605676945, 0.30884214825403306, 0.30144986726567286, 0.2749438431692873, 0.2, 0.2]"
   ]
  },
  {
   "cell_type": "code",
   "execution_count": 131,
   "id": "5108dc84",
   "metadata": {
    "ExecuteTime": {
     "end_time": "2022-11-23T22:12:14.194522Z",
     "start_time": "2022-11-23T22:11:21.936338Z"
    }
   },
   "outputs": [
    {
     "name": "stdout",
     "output_type": "stream",
     "text": [
      "Iter : 0\n",
      "Iter : 10\n",
      "Iter : 20\n",
      "Iter : 30\n",
      "Iter : 40\n"
     ]
    },
    {
     "name": "stderr",
     "output_type": "stream",
     "text": [
      "2022-11-24 12:18:22.150970: W tensorflow/core/data/root_dataset.cc:247] Optimization loop failed: CANCELLED: Operation was cancelled\n"
     ]
    },
    {
     "name": "stdout",
     "output_type": "stream",
     "text": [
      "Iter : 50\n",
      "Iter : 60\n",
      "Iter : 70\n",
      "Iter : 80\n",
      "Iter : 90\n",
      "Iter : 100\n",
      "Iter : 110\n",
      "Iter : 120\n",
      "Iter : 130\n",
      "Iter : 140\n",
      "Iter : 150\n",
      "Iter : 160\n",
      "Iter : 170\n",
      "Iter : 180\n",
      "Iter : 190\n",
      "Iter : 200\n",
      "Iter : 210\n",
      "Iter : 220\n"
     ]
    }
   ],
   "source": [
    "nAgents = 47\n",
    "eps_funcs = np.random.uniform(0.2, 0.5, (nAgents,))\n",
    "e_dist = lambda t, i : dist[i]\n",
    "e_fixed = lambda t, i: 0.6\n",
    "e_brainoff = lambda t, i: 1\n",
    "world, plens, clus_avgs, zs, samp, hist_gs = monk_it_up(e_brainoff, 230, n  = 10,nAgents = 47, verbose = 0)"
   ]
  },
  {
   "cell_type": "code",
   "execution_count": 114,
   "id": "dc9aa913",
   "metadata": {},
   "outputs": [
    {
     "name": "stdout",
     "output_type": "stream",
     "text": [
      "Generated: 5.081406105457909\n"
     ]
    },
    {
     "data": {
      "text/plain": [
       "2.391304347826087"
      ]
     },
     "execution_count": 114,
     "metadata": {},
     "output_type": "execute_result"
    }
   ],
   "source": [
    "worse_graph = nx.read_adjlist(\"./prog_g.adjlist\")\n",
    "print(f\"Generated: {avg_path_length(world.G)}\")\n",
    "avg_path_length(worse_graph)"
   ]
  },
  {
   "cell_type": "code",
   "execution_count": 132,
   "id": "9e90e754",
   "metadata": {},
   "outputs": [
    {
     "data": {
      "text/plain": [
       "[0.06382978723404255,\n",
       " 0.06382978723404255,\n",
       " 0.1347517730496454,\n",
       " 0.1347517730496454,\n",
       " 0.1553191489361702,\n",
       " 0.1978723404255319,\n",
       " 0.24751773049645395,\n",
       " 0.26170212765957446,\n",
       " 0.2843971631205673,\n",
       " 0.284498480243161,\n",
       " 0.24437689969604864,\n",
       " 0.24214792299898683,\n",
       " 0.31788247213779125,\n",
       " 0.32796352583586624,\n",
       " 0.3165146909827761,\n",
       " 0.3063323201621074,\n",
       " 0.3058088483620398,\n",
       " 0.28329956095913544,\n",
       " 0.30674833440790894,\n",
       " 0.30517638389978813,\n",
       " 0.3086887108163704,\n",
       " 0.36297933744742245,\n",
       " 0.3313317887785973,\n",
       " 0.3264051551285594,\n",
       " 0.3384889342336151,\n",
       " 0.3330219425964107,\n",
       " 0.31729452580516415,\n",
       " 0.306237143471186,\n",
       " 0.32469622576005547,\n",
       " 0.336911079464271,\n",
       " 0.3551747307066456,\n",
       " 0.34909629377714485,\n",
       " 0.362719904209266,\n",
       " 0.3782383101532038,\n",
       " 0.38743006402580854,\n",
       " 0.37021075850863094,\n",
       " 0.36454101454101456,\n",
       " 0.3729104229104229,\n",
       " 0.3799008320284916,\n",
       " 0.3679622977495318,\n",
       " 0.38917477321732635,\n",
       " 0.4246591469995724,\n",
       " 0.39740661230022917,\n",
       " 0.3968363787512724,\n",
       " 0.3825867985442453,\n",
       " 0.36893945298200614,\n",
       " 0.3806336689315412,\n",
       " 0.3896945843754354,\n",
       " 0.36611615335019587,\n",
       " 0.38358461869100163,\n",
       " 0.3974009442094548,\n",
       " 0.39110062514317834,\n",
       " 0.3908100174057621,\n",
       " 0.3854798865437164,\n",
       " 0.39020553914170947,\n",
       " 0.3938954662358917,\n",
       " 0.4112714708459389,\n",
       " 0.3933111805452231,\n",
       " 0.38989178670029734,\n",
       " 0.3957685340664065,\n",
       " 0.3960358790146023,\n",
       " 0.3855040940147323,\n",
       " 0.380959702236298,\n",
       " 0.3781456132519962,\n",
       " 0.3748636115657392,\n",
       " 0.37432703230575576,\n",
       " 0.36191456297839264,\n",
       " 0.35381432987815964,\n",
       " 0.34844831847334967,\n",
       " 0.35477649176022147,\n",
       " 0.3594642702590137,\n",
       " 0.3635434201454226,\n",
       " 0.3700170504827643,\n",
       " 0.36461192161080186,\n",
       " 0.35559748202525354,\n",
       " 0.3557961448778918,\n",
       " 0.34828312784639776,\n",
       " 0.35389953293747506,\n",
       " 0.34563989776261694,\n",
       " 0.3463158435442871,\n",
       " 0.35112447276501035,\n",
       " 0.34764585296500194,\n",
       " 0.35388256138536095,\n",
       " 0.35004101286296135,\n",
       " 0.34025805909904455,\n",
       " 0.34792647628593876,\n",
       " 0.3565301284506211,\n",
       " 0.35374786343431364,\n",
       " 0.34816202779281624,\n",
       " 0.35015061075761955,\n",
       " 0.3644453411975314,\n",
       " 0.3645691778670502,\n",
       " 0.3528837442775918,\n",
       " 0.3459798170489166,\n",
       " 0.35648632833765564,\n",
       " 0.3634331440832989,\n",
       " 0.3699792072758282,\n",
       " 0.3611828659816277,\n",
       " 0.3643835486253642,\n",
       " 0.35433068859720596,\n",
       " 0.34080818342889363,\n",
       " 0.3345328428606869,\n",
       " 0.3351091091753762,\n",
       " 0.32787903055671985,\n",
       " 0.3245277146716446,\n",
       " 0.3389690323802043,\n",
       " 0.3370628224508075,\n",
       " 0.3442504221948923,\n",
       " 0.34143590437477533,\n",
       " 0.34173732403921464,\n",
       " 0.3395464219668818,\n",
       " 0.34836272825535736,\n",
       " 0.3387520591887894,\n",
       " 0.33407779358803674,\n",
       " 0.33589826505312975,\n",
       " 0.33687507389009275,\n",
       " 0.34042486855377974,\n",
       " 0.3387714392407759,\n",
       " 0.33404143485495175,\n",
       " 0.3324742077558099,\n",
       " 0.32888433357770025,\n",
       " 0.326973773688417,\n",
       " 0.3193656017185429,\n",
       " 0.32430376604344063,\n",
       " 0.321849472318809,\n",
       " 0.33203696942745753,\n",
       " 0.3266644737545865,\n",
       " 0.3313050755610535,\n",
       " 0.3229037425039006,\n",
       " 0.3241769522004685,\n",
       " 0.3344526321010084,\n",
       " 0.34380712916547185,\n",
       " 0.35148767184041535,\n",
       " 0.34857956617886793,\n",
       " 0.34481362693107637,\n",
       " 0.3406481880034348,\n",
       " 0.34369223151088646,\n",
       " 0.3391584705101602,\n",
       " 0.3353437551184735,\n",
       " 0.33203351717118923,\n",
       " 0.3260995470945409,\n",
       " 0.3325728613802522,\n",
       " 0.32338350705059093,\n",
       " 0.3230227636360302,\n",
       " 0.33251678442542026,\n",
       " 0.3308878543233988,\n",
       " 0.3431134232563651,\n",
       " 0.34147328639127605,\n",
       " 0.3324105362393355,\n",
       " 0.3330523919500272,\n",
       " 0.33136798628696396,\n",
       " 0.3350399713732168,\n",
       " 0.340005053097076,\n",
       " 0.33446560740052605,\n",
       " 0.33715929807919803,\n",
       " 0.33600836307344445,\n",
       " 0.3357031683377116,\n",
       " 0.3368341434674352,\n",
       " 0.3435814220545134,\n",
       " 0.34894010175612195,\n",
       " 0.35109314270766095,\n",
       " 0.35018333133246526,\n",
       " 0.3497100161400934,\n",
       " 0.35016026120861127,\n",
       " 0.34069608252962463,\n",
       " 0.33880390225822027,\n",
       " 0.33694137874363167,\n",
       " 0.33132087631461854,\n",
       " 0.3332218747738147,\n",
       " 0.336708115275074,\n",
       " 0.33603031650591114,\n",
       " 0.33156633034605515,\n",
       " 0.33735134285822665,\n",
       " 0.3371115881754181,\n",
       " 0.3413567061136392,\n",
       " 0.3372692754551658,\n",
       " 0.3367799423494043,\n",
       " 0.33317686693781823,\n",
       " 0.328384659423458,\n",
       " 0.32605502201872677,\n",
       " 0.33054785917739615,\n",
       " 0.3305787593021636,\n",
       " 0.3306487664747991,\n",
       " 0.3295430372714479,\n",
       " 0.32984936770919254,\n",
       " 0.33293011744200735,\n",
       " 0.34185784664508073,\n",
       " 0.3403018723732115,\n",
       " 0.33986332468810576,\n",
       " 0.3392826788008266,\n",
       " 0.33028624830877656,\n",
       " 0.32928212796798534,\n",
       " 0.3192480305121106,\n",
       " 0.3186227692485515,\n",
       " 0.31265754533984563,\n",
       " 0.3156631009242828,\n",
       " 0.3105704856956422,\n",
       " 0.3106061127024831,\n",
       " 0.310758873305807,\n",
       " 0.3119393296176776,\n",
       " 0.3165240301347936,\n",
       " 0.3151193786049856,\n",
       " 0.31055246727962627,\n",
       " 0.3114204284104159,\n",
       " 0.31639966336132597,\n",
       " 0.3166242740710827,\n",
       " 0.3137398340777566,\n",
       " 0.3279903690202748,\n",
       " 0.3310262750665228,\n",
       " 0.3354751931130299,\n",
       " 0.3342596945538123,\n",
       " 0.3412292287267587,\n",
       " 0.34714467971335117,\n",
       " 0.34220755731690466,\n",
       " 0.33637462395614043,\n",
       " 0.33372839494636486,\n",
       " 0.3414236779841813,\n",
       " 0.34368903169377457,\n",
       " 0.3452832710622053,\n",
       " 0.34787001016169056,\n",
       " 0.3495359064228045,\n",
       " 0.3509710950555198,\n",
       " 0.35294671674034606,\n",
       " 0.34604031135915964,\n",
       " 0.34438332571625624,\n",
       " 0.34704310868924537,\n",
       " 0.3468251580958255,\n",
       " 0.34063535345565515,\n",
       " 0.33931197618372383,\n",
       " 0.3359551947441415]"
      ]
     },
     "execution_count": 132,
     "metadata": {},
     "output_type": "execute_result"
    }
   ],
   "source": [
    "clus_avgs"
   ]
  },
  {
   "cell_type": "code",
   "execution_count": 133,
   "id": "37f4f31b",
   "metadata": {
    "ExecuteTime": {
     "end_time": "2022-11-23T22:14:27.991344Z",
     "start_time": "2022-11-23T22:14:27.978332Z"
    }
   },
   "outputs": [
    {
     "name": "stdout",
     "output_type": "stream",
     "text": [
      "0.8555965286994532\n"
     ]
    },
    {
     "data": {
      "text/plain": [
       "KstestResult(statistic=0.20454545454545456, pvalue=0.7559658210452358)"
      ]
     },
     "execution_count": 133,
     "metadata": {},
     "output_type": "execute_result"
    }
   ],
   "source": [
    "print(np.min(zs))\n",
    "samp[np.argmin(zs)]"
   ]
  },
  {
   "cell_type": "code",
   "execution_count": 134,
   "id": "3c2fe2ff",
   "metadata": {},
   "outputs": [
    {
     "data": {
      "image/png": "[encoded data removed]",
      "text/plain": [
       "<Figure size 640x480 with 1 Axes>"
      ]
     },
     "metadata": {},
     "output_type": "display_data"
    }
   ],
   "source": [
    "plt.plot(zs)\n",
    "plt.show()"
   ]
  },
  {
   "cell_type": "code",
   "execution_count": 86,
   "id": "e0977319",
   "metadata": {
    "ExecuteTime": {
     "end_time": "2022-11-23T21:56:06.579786Z",
     "start_time": "2022-11-23T21:56:06.475691Z"
    }
   },
   "outputs": [
    {
     "ename": "NameError",
     "evalue": "name 'a' is not defined",
     "output_type": "error",
     "traceback": [
      "\u001b[0;31m---------------------------------------------------------------------------\u001b[0m",
      "\u001b[0;31mNameError\u001b[0m                                 Traceback (most recent call last)",
      "Cell \u001b[0;32mIn [86], line 1\u001b[0m\n\u001b[0;32m----> 1\u001b[0m degree_distribution(hist_gs[\u001b[43ma\u001b[49m])\n",
      "\u001b[0;31mNameError\u001b[0m: name 'a' is not defined"
     ]
    }
   ],
   "source": [
    "degree_distribution(hist_gs[a])"
   ]
  },
  {
   "cell_type": "code",
   "execution_count": 135,
   "id": "3c9aaa70",
   "metadata": {
    "ExecuteTime": {
     "end_time": "2022-11-23T21:44:47.076369Z",
     "start_time": "2022-11-23T21:44:46.993294Z"
    }
   },
   "outputs": [
    {
     "data": {
      "image/png": "[encoded data removed]",
      "text/plain": [
       "<Figure size 800x800 with 1 Axes>"
      ]
     },
     "metadata": {},
     "output_type": "display_data"
    }
   ],
   "source": [
    "degree_distribution(world.G)"
   ]
  },
  {
   "cell_type": "code",
   "execution_count": 88,
   "id": "3de47be4",
   "metadata": {
    "ExecuteTime": {
     "end_time": "2022-11-23T21:44:51.993939Z",
     "start_time": "2022-11-23T21:44:51.987933Z"
    }
   },
   "outputs": [
    {
     "name": "stdout",
     "output_type": "stream",
     "text": [
      "Z-score : 1.1335549796631421\n",
      "ks_2 sample : KstestResult(statistic=0.2878787878787879, pvalue=0.3530992024672486)\n"
     ]
    }
   ],
   "source": [
    "worse_graph = nx.read_adjlist(\"./prog_g.adjlist\")\n",
    "w_degree_sequence = np.unique(sorted((d for _, d in worse_graph.degree()), reverse=True), return_counts = True)[1]\n",
    "\n",
    "\n",
    "degree_sequence = np.unique(sorted((d for _, d in world.G.degree()), reverse=True),\n",
    "                                        return_counts = True)[1]\n",
    "top = (degree_sequence.mean() - w_degree_sequence.mean()) \n",
    "bot1 = np.square(np.std(degree_sequence) / np.sqrt(degree_sequence.shape[0]))\n",
    "bot2 = np.square(np.std(w_degree_sequence)) / np.sqrt(w_degree_sequence.shape[0])\n",
    "print(f\"Z-score : {top / np.sqrt(bot1 + bot2)}\")\n",
    "\n",
    "ks_2samp(degree_sequence, w_degree_sequence)\n",
    "print(f\"ks_2 sample : {ks_2samp(degree_sequence, w_degree_sequence)}\")"
   ]
  },
  {
   "cell_type": "code",
   "execution_count": 89,
   "id": "5afcd819",
   "metadata": {
    "ExecuteTime": {
     "end_time": "2022-11-23T09:33:46.170795Z",
     "start_time": "2022-11-23T09:33:46.157784Z"
    }
   },
   "outputs": [
    {
     "data": {
      "text/plain": [
       "KstestResult(statistic=0.2878787878787879, pvalue=0.3530992024672486)"
      ]
     },
     "execution_count": 89,
     "metadata": {},
     "output_type": "execute_result"
    }
   ],
   "source": [
    "ks_2samp(degree_sequence, w_degree_sequence)"
   ]
  },
  {
   "cell_type": "code",
   "execution_count": 90,
   "id": "db5e9fe8",
   "metadata": {
    "ExecuteTime": {
     "end_time": "2022-11-23T07:57:52.023707Z",
     "start_time": "2022-11-23T07:57:52.013698Z"
    }
   },
   "outputs": [
    {
     "data": {
      "text/plain": [
       "[2.0,\n",
       " 3.5392670157068062,\n",
       " 4.329317269076305,\n",
       " 6.169287696577244,\n",
       " 7.160962072155412,\n",
       " 6.424606845513414,\n",
       " 5.604070305272895,\n",
       " 5.13413506012951,\n",
       " 4.876965772432932,\n",
       " 4.921369102682701,\n",
       " 4.842738205365403,\n",
       " 5.124884366327475,\n",
       " 4.938945420906568,\n",
       " 4.499537465309898,\n",
       " 4.698427382053654,\n",
       " 4.541165587419057,\n",
       " 4.888991674375578,\n",
       " 4.896392229417207,\n",
       " 5.207215541165588,\n",
       " 4.6096207215541165]"
      ]
     },
     "execution_count": 90,
     "metadata": {},
     "output_type": "execute_result"
    }
   ],
   "source": [
    "plens"
   ]
  },
  {
   "cell_type": "code",
   "execution_count": 136,
   "id": "26f5dd1f-c9ac-4f98-aad0-3474521b1cc7",
   "metadata": {},
   "outputs": [],
   "source": [
    "rand_g = nx.random_reference(world.G)\n",
    "latt_g = nx.lattice_reference(world.G)"
   ]
  },
  {
   "cell_type": "code",
   "execution_count": 137,
   "id": "25464782-8378-4c76-8cca-b5e5bcf2e94a",
   "metadata": {},
   "outputs": [],
   "source": [
    "C = nx.average_clustering(world.G)\n",
    "L = nx.average_shortest_path_length(world.G)"
   ]
  },
  {
   "cell_type": "code",
   "execution_count": 138,
   "id": "2f22195d-0202-46b0-b52f-4da661a88290",
   "metadata": {},
   "outputs": [],
   "source": [
    "Cr = nx.average_clustering(rand_g)\n",
    "Lr = nx.average_shortest_path_length(rand_g)"
   ]
  },
  {
   "cell_type": "code",
   "execution_count": 139,
   "id": "d133d713-260f-4bc5-9d7f-06d7005d7a6d",
   "metadata": {},
   "outputs": [],
   "source": [
    "Cl = nx.average_clustering(latt_g)"
   ]
  },
  {
   "cell_type": "code",
   "execution_count": 140,
   "id": "c0547985-e9fd-41fa-90e5-b459ff526412",
   "metadata": {},
   "outputs": [
    {
     "name": "stdout",
     "output_type": "stream",
     "text": [
      "0.24458191812288466\n"
     ]
    }
   ],
   "source": [
    "sigma = (C / Cr) / (L / Lr)\n",
    "# print(sigma)\n",
    "\n",
    "omega = (Lr / L) - (C / Cl)\n",
    "print(omega)"
   ]
  },
  {
   "cell_type": "code",
   "execution_count": 141,
   "id": "89a9f80e-d737-46dd-bda9-16ce7150f096",
   "metadata": {},
   "outputs": [
    {
     "name": "stdout",
     "output_type": "stream",
     "text": [
      "-0.015239096163951693\n"
     ]
    }
   ],
   "source": [
    "# print(nx.sigma(world.G, niter=1, nrand=1))\n",
    "print(nx.omega(world.G, niter=1, nrand=1))"
   ]
  },
  {
   "cell_type": "code",
   "execution_count": 50,
   "id": "ec446aec-abab-43f3-abf3-bdde570378a8",
   "metadata": {},
   "outputs": [
    {
     "ename": "KeyboardInterrupt",
     "evalue": "",
     "output_type": "error",
     "traceback": [
      "\u001b[0;31m---------------------------------------------------------------------------\u001b[0m",
      "\u001b[0;31mKeyboardInterrupt\u001b[0m                         Traceback (most recent call last)",
      "Cell \u001b[0;32mIn [50], line 1\u001b[0m\n\u001b[0;32m----> 1\u001b[0m \u001b[38;5;28mprint\u001b[39m(\u001b[43mnx\u001b[49m\u001b[38;5;241;43m.\u001b[39;49m\u001b[43msigma\u001b[49m\u001b[43m(\u001b[49m\u001b[43mworld\u001b[49m\u001b[38;5;241;43m.\u001b[39;49m\u001b[43mG\u001b[49m\u001b[43m)\u001b[49m)\n",
      "File \u001b[0;32m<class 'networkx.utils.decorators.argmap'> compilation 33:6\u001b[0m, in \u001b[0;36margmap_sigma_28\u001b[0;34m(G, niter, nrand, seed)\u001b[0m\n\u001b[1;32m      4\u001b[0m \u001b[38;5;28;01mimport\u001b[39;00m \u001b[38;5;21;01minspect\u001b[39;00m\n\u001b[1;32m      5\u001b[0m \u001b[38;5;28;01mimport\u001b[39;00m \u001b[38;5;21;01mitertools\u001b[39;00m\n\u001b[0;32m----> 6\u001b[0m \u001b[38;5;28;01mimport\u001b[39;00m \u001b[38;5;21;01mre\u001b[39;00m\n\u001b[1;32m      7\u001b[0m \u001b[38;5;28;01mfrom\u001b[39;00m \u001b[38;5;21;01mcollections\u001b[39;00m \u001b[38;5;28;01mimport\u001b[39;00m defaultdict\n\u001b[1;32m      8\u001b[0m \u001b[38;5;28;01mfrom\u001b[39;00m \u001b[38;5;21;01mcontextlib\u001b[39;00m \u001b[38;5;28;01mimport\u001b[39;00m contextmanager\n",
      "File \u001b[0;32m~/opt/anaconda3/envs/monke/lib/python3.10/site-packages/networkx/algorithms/smallworld.py:283\u001b[0m, in \u001b[0;36msigma\u001b[0;34m(G, niter, nrand, seed)\u001b[0m\n\u001b[1;32m    281\u001b[0m randMetrics \u001b[38;5;241m=\u001b[39m {\u001b[38;5;124m\"\u001b[39m\u001b[38;5;124mC\u001b[39m\u001b[38;5;124m\"\u001b[39m: [], \u001b[38;5;124m\"\u001b[39m\u001b[38;5;124mL\u001b[39m\u001b[38;5;124m\"\u001b[39m: []}\n\u001b[1;32m    282\u001b[0m \u001b[38;5;28;01mfor\u001b[39;00m i \u001b[38;5;129;01min\u001b[39;00m \u001b[38;5;28mrange\u001b[39m(nrand):\n\u001b[0;32m--> 283\u001b[0m     Gr \u001b[38;5;241m=\u001b[39m \u001b[43mrandom_reference\u001b[49m\u001b[43m(\u001b[49m\u001b[43mG\u001b[49m\u001b[43m,\u001b[49m\u001b[43m \u001b[49m\u001b[43mniter\u001b[49m\u001b[38;5;241;43m=\u001b[39;49m\u001b[43mniter\u001b[49m\u001b[43m,\u001b[49m\u001b[43m \u001b[49m\u001b[43mseed\u001b[49m\u001b[38;5;241;43m=\u001b[39;49m\u001b[43mseed\u001b[49m\u001b[43m)\u001b[49m\n\u001b[1;32m    284\u001b[0m     randMetrics[\u001b[38;5;124m\"\u001b[39m\u001b[38;5;124mC\u001b[39m\u001b[38;5;124m\"\u001b[39m]\u001b[38;5;241m.\u001b[39mappend(nx\u001b[38;5;241m.\u001b[39mtransitivity(Gr))\n\u001b[1;32m    285\u001b[0m     randMetrics[\u001b[38;5;124m\"\u001b[39m\u001b[38;5;124mL\u001b[39m\u001b[38;5;124m\"\u001b[39m]\u001b[38;5;241m.\u001b[39mappend(nx\u001b[38;5;241m.\u001b[39maverage_shortest_path_length(Gr))\n",
      "File \u001b[0;32m<class 'networkx.utils.decorators.argmap'> compilation 19:6\u001b[0m, in \u001b[0;36margmap_random_reference_14\u001b[0;34m(G, niter, connectivity, seed)\u001b[0m\n\u001b[1;32m      4\u001b[0m \u001b[38;5;28;01mimport\u001b[39;00m \u001b[38;5;21;01minspect\u001b[39;00m\n\u001b[1;32m      5\u001b[0m \u001b[38;5;28;01mimport\u001b[39;00m \u001b[38;5;21;01mitertools\u001b[39;00m\n\u001b[0;32m----> 6\u001b[0m \u001b[38;5;28;01mimport\u001b[39;00m \u001b[38;5;21;01mre\u001b[39;00m\n\u001b[1;32m      7\u001b[0m \u001b[38;5;28;01mfrom\u001b[39;00m \u001b[38;5;21;01mcollections\u001b[39;00m \u001b[38;5;28;01mimport\u001b[39;00m defaultdict\n\u001b[1;32m      8\u001b[0m \u001b[38;5;28;01mfrom\u001b[39;00m \u001b[38;5;21;01mcontextlib\u001b[39;00m \u001b[38;5;28;01mimport\u001b[39;00m contextmanager\n",
      "File \u001b[0;32m~/opt/anaconda3/envs/monke/lib/python3.10/site-packages/networkx/algorithms/smallworld.py:100\u001b[0m, in \u001b[0;36mrandom_reference\u001b[0;34m(G, niter, connectivity, seed)\u001b[0m\n\u001b[1;32m     97\u001b[0m G\u001b[38;5;241m.\u001b[39mremove_edge(c, d)\n\u001b[1;32m     99\u001b[0m \u001b[38;5;66;03m# Check if the graph is still connected\u001b[39;00m\n\u001b[0;32m--> 100\u001b[0m \u001b[38;5;28;01mif\u001b[39;00m connectivity \u001b[38;5;129;01mand\u001b[39;00m \u001b[43mlocal_conn\u001b[49m\u001b[43m(\u001b[49m\u001b[43mG\u001b[49m\u001b[43m,\u001b[49m\u001b[43m \u001b[49m\u001b[43ma\u001b[49m\u001b[43m,\u001b[49m\u001b[43m \u001b[49m\u001b[43mb\u001b[49m\u001b[43m)\u001b[49m \u001b[38;5;241m==\u001b[39m \u001b[38;5;241m0\u001b[39m:\n\u001b[1;32m    101\u001b[0m     \u001b[38;5;66;03m# Not connected, revert the swap\u001b[39;00m\n\u001b[1;32m    102\u001b[0m     G\u001b[38;5;241m.\u001b[39mremove_edge(a, d)\n\u001b[1;32m    103\u001b[0m     G\u001b[38;5;241m.\u001b[39mremove_edge(c, b)\n",
      "File \u001b[0;32m~/opt/anaconda3/envs/monke/lib/python3.10/site-packages/networkx/algorithms/connectivity/connectivity.py:649\u001b[0m, in \u001b[0;36mlocal_edge_connectivity\u001b[0;34m(G, s, t, flow_func, auxiliary, residual, cutoff)\u001b[0m\n\u001b[1;32m    646\u001b[0m \u001b[38;5;28;01melif\u001b[39;00m flow_func \u001b[38;5;129;01mis\u001b[39;00m boykov_kolmogorov:\n\u001b[1;32m    647\u001b[0m     kwargs[\u001b[38;5;124m\"\u001b[39m\u001b[38;5;124mcutoff\u001b[39m\u001b[38;5;124m\"\u001b[39m] \u001b[38;5;241m=\u001b[39m cutoff\n\u001b[0;32m--> 649\u001b[0m \u001b[38;5;28;01mreturn\u001b[39;00m \u001b[43mnx\u001b[49m\u001b[38;5;241;43m.\u001b[39;49m\u001b[43mmaximum_flow_value\u001b[49m\u001b[43m(\u001b[49m\u001b[43mH\u001b[49m\u001b[43m,\u001b[49m\u001b[43m \u001b[49m\u001b[43ms\u001b[49m\u001b[43m,\u001b[49m\u001b[43m \u001b[49m\u001b[43mt\u001b[49m\u001b[43m,\u001b[49m\u001b[43m \u001b[49m\u001b[38;5;241;43m*\u001b[39;49m\u001b[38;5;241;43m*\u001b[39;49m\u001b[43mkwargs\u001b[49m\u001b[43m)\u001b[49m\n",
      "File \u001b[0;32m~/opt/anaconda3/envs/monke/lib/python3.10/site-packages/networkx/algorithms/flow/maxflow.py:307\u001b[0m, in \u001b[0;36mmaximum_flow_value\u001b[0;34m(flowG, _s, _t, capacity, flow_func, **kwargs)\u001b[0m\n\u001b[1;32m    304\u001b[0m \u001b[38;5;28;01mif\u001b[39;00m \u001b[38;5;129;01mnot\u001b[39;00m callable(flow_func):\n\u001b[1;32m    305\u001b[0m     \u001b[38;5;28;01mraise\u001b[39;00m nx\u001b[38;5;241m.\u001b[39mNetworkXError(\u001b[38;5;124m\"\u001b[39m\u001b[38;5;124mflow_func has to be callable.\u001b[39m\u001b[38;5;124m\"\u001b[39m)\n\u001b[0;32m--> 307\u001b[0m R \u001b[38;5;241m=\u001b[39m \u001b[43mflow_func\u001b[49m\u001b[43m(\u001b[49m\u001b[43mflowG\u001b[49m\u001b[43m,\u001b[49m\u001b[43m \u001b[49m\u001b[43m_s\u001b[49m\u001b[43m,\u001b[49m\u001b[43m \u001b[49m\u001b[43m_t\u001b[49m\u001b[43m,\u001b[49m\u001b[43m \u001b[49m\u001b[43mcapacity\u001b[49m\u001b[38;5;241;43m=\u001b[39;49m\u001b[43mcapacity\u001b[49m\u001b[43m,\u001b[49m\u001b[43m \u001b[49m\u001b[43mvalue_only\u001b[49m\u001b[38;5;241;43m=\u001b[39;49m\u001b[38;5;28;43;01mTrue\u001b[39;49;00m\u001b[43m,\u001b[49m\u001b[43m \u001b[49m\u001b[38;5;241;43m*\u001b[39;49m\u001b[38;5;241;43m*\u001b[39;49m\u001b[43mkwargs\u001b[49m\u001b[43m)\u001b[49m\n\u001b[1;32m    309\u001b[0m \u001b[38;5;28;01mreturn\u001b[39;00m R\u001b[38;5;241m.\u001b[39mgraph[\u001b[38;5;124m\"\u001b[39m\u001b[38;5;124mflow_value\u001b[39m\u001b[38;5;124m\"\u001b[39m]\n",
      "File \u001b[0;32m~/opt/anaconda3/envs/monke/lib/python3.10/site-packages/networkx/algorithms/flow/edmondskarp.py:237\u001b[0m, in \u001b[0;36medmonds_karp\u001b[0;34m(G, s, t, capacity, residual, value_only, cutoff)\u001b[0m\n\u001b[1;32m    120\u001b[0m \u001b[38;5;28;01mdef\u001b[39;00m \u001b[38;5;21medmonds_karp\u001b[39m(\n\u001b[1;32m    121\u001b[0m     G, s, t, capacity\u001b[38;5;241m=\u001b[39m\u001b[38;5;124m\"\u001b[39m\u001b[38;5;124mcapacity\u001b[39m\u001b[38;5;124m\"\u001b[39m, residual\u001b[38;5;241m=\u001b[39m\u001b[38;5;28;01mNone\u001b[39;00m, value_only\u001b[38;5;241m=\u001b[39m\u001b[38;5;28;01mFalse\u001b[39;00m, cutoff\u001b[38;5;241m=\u001b[39m\u001b[38;5;28;01mNone\u001b[39;00m\n\u001b[1;32m    122\u001b[0m ):\n\u001b[1;32m    123\u001b[0m     \u001b[38;5;124;03m\"\"\"Find a maximum single-commodity flow using the Edmonds-Karp algorithm.\u001b[39;00m\n\u001b[1;32m    124\u001b[0m \n\u001b[1;32m    125\u001b[0m \u001b[38;5;124;03m    This function returns the residual network resulting after computing\u001b[39;00m\n\u001b[0;32m   (...)\u001b[0m\n\u001b[1;32m    235\u001b[0m \n\u001b[1;32m    236\u001b[0m \u001b[38;5;124;03m    \"\"\"\u001b[39;00m\n\u001b[0;32m--> 237\u001b[0m     R \u001b[38;5;241m=\u001b[39m \u001b[43medmonds_karp_impl\u001b[49m\u001b[43m(\u001b[49m\u001b[43mG\u001b[49m\u001b[43m,\u001b[49m\u001b[43m \u001b[49m\u001b[43ms\u001b[49m\u001b[43m,\u001b[49m\u001b[43m \u001b[49m\u001b[43mt\u001b[49m\u001b[43m,\u001b[49m\u001b[43m \u001b[49m\u001b[43mcapacity\u001b[49m\u001b[43m,\u001b[49m\u001b[43m \u001b[49m\u001b[43mresidual\u001b[49m\u001b[43m,\u001b[49m\u001b[43m \u001b[49m\u001b[43mcutoff\u001b[49m\u001b[43m)\u001b[49m\n\u001b[1;32m    238\u001b[0m     R\u001b[38;5;241m.\u001b[39mgraph[\u001b[38;5;124m\"\u001b[39m\u001b[38;5;124malgorithm\u001b[39m\u001b[38;5;124m\"\u001b[39m] \u001b[38;5;241m=\u001b[39m \u001b[38;5;124m\"\u001b[39m\u001b[38;5;124medmonds_karp\u001b[39m\u001b[38;5;124m\"\u001b[39m\n\u001b[1;32m    239\u001b[0m     \u001b[38;5;28;01mreturn\u001b[39;00m R\n",
      "File \u001b[0;32m~/opt/anaconda3/envs/monke/lib/python3.10/site-packages/networkx/algorithms/flow/edmondskarp.py:104\u001b[0m, in \u001b[0;36medmonds_karp_impl\u001b[0;34m(G, s, t, capacity, residual, cutoff)\u001b[0m\n\u001b[1;32m    101\u001b[0m     \u001b[38;5;28;01mraise\u001b[39;00m nx\u001b[38;5;241m.\u001b[39mNetworkXError(\u001b[38;5;124m\"\u001b[39m\u001b[38;5;124msource and sink are the same node\u001b[39m\u001b[38;5;124m\"\u001b[39m)\n\u001b[1;32m    103\u001b[0m \u001b[38;5;28;01mif\u001b[39;00m residual \u001b[38;5;129;01mis\u001b[39;00m \u001b[38;5;28;01mNone\u001b[39;00m:\n\u001b[0;32m--> 104\u001b[0m     R \u001b[38;5;241m=\u001b[39m \u001b[43mbuild_residual_network\u001b[49m\u001b[43m(\u001b[49m\u001b[43mG\u001b[49m\u001b[43m,\u001b[49m\u001b[43m \u001b[49m\u001b[43mcapacity\u001b[49m\u001b[43m)\u001b[49m\n\u001b[1;32m    105\u001b[0m \u001b[38;5;28;01melse\u001b[39;00m:\n\u001b[1;32m    106\u001b[0m     R \u001b[38;5;241m=\u001b[39m residual\n",
      "File \u001b[0;32m~/opt/anaconda3/envs/monke/lib/python3.10/site-packages/networkx/algorithms/flow/utils.py:104\u001b[0m, in \u001b[0;36mbuild_residual_network\u001b[0;34m(G, capacity)\u001b[0m\n\u001b[1;32m    101\u001b[0m     \u001b[38;5;28;01mraise\u001b[39;00m nx\u001b[38;5;241m.\u001b[39mNetworkXError(\u001b[38;5;124m\"\u001b[39m\u001b[38;5;124mMultiGraph and MultiDiGraph not supported (yet).\u001b[39m\u001b[38;5;124m\"\u001b[39m)\n\u001b[1;32m    103\u001b[0m R \u001b[38;5;241m=\u001b[39m nx\u001b[38;5;241m.\u001b[39mDiGraph()\n\u001b[0;32m--> 104\u001b[0m \u001b[43mR\u001b[49m\u001b[38;5;241;43m.\u001b[39;49m\u001b[43madd_nodes_from\u001b[49m\u001b[43m(\u001b[49m\u001b[43mG\u001b[49m\u001b[43m)\u001b[49m\n\u001b[1;32m    106\u001b[0m inf \u001b[38;5;241m=\u001b[39m \u001b[38;5;28mfloat\u001b[39m(\u001b[38;5;124m\"\u001b[39m\u001b[38;5;124minf\u001b[39m\u001b[38;5;124m\"\u001b[39m)\n\u001b[1;32m    107\u001b[0m \u001b[38;5;66;03m# Extract edges with positive capacities. Self loops excluded.\u001b[39;00m\n",
      "File \u001b[0;32m~/opt/anaconda3/envs/monke/lib/python3.10/site-packages/networkx/classes/digraph.py:494\u001b[0m, in \u001b[0;36mDiGraph.add_nodes_from\u001b[0;34m(self, nodes_for_adding, **attr)\u001b[0m\n\u001b[1;32m    492\u001b[0m     \u001b[38;5;28mself\u001b[39m\u001b[38;5;241m.\u001b[39m_succ[n] \u001b[38;5;241m=\u001b[39m \u001b[38;5;28mself\u001b[39m\u001b[38;5;241m.\u001b[39madjlist_inner_dict_factory()\n\u001b[1;32m    493\u001b[0m     \u001b[38;5;28mself\u001b[39m\u001b[38;5;241m.\u001b[39m_pred[n] \u001b[38;5;241m=\u001b[39m \u001b[38;5;28mself\u001b[39m\u001b[38;5;241m.\u001b[39madjlist_inner_dict_factory()\n\u001b[0;32m--> 494\u001b[0m     \u001b[38;5;28mself\u001b[39m\u001b[38;5;241m.\u001b[39m_node[n] \u001b[38;5;241m=\u001b[39m \u001b[38;5;28;43mself\u001b[39;49m\u001b[38;5;241;43m.\u001b[39;49m\u001b[43mnode_attr_dict_factory\u001b[49m\u001b[43m(\u001b[49m\u001b[43m)\u001b[49m\n\u001b[1;32m    495\u001b[0m \u001b[38;5;28mself\u001b[39m\u001b[38;5;241m.\u001b[39m_node[n]\u001b[38;5;241m.\u001b[39mupdate(newdict)\n",
      "\u001b[0;31mKeyboardInterrupt\u001b[0m: "
     ]
    }
   ],
   "source": [
    "print(nx.sigma(world.G))"
   ]
  },
  {
   "cell_type": "code",
   "execution_count": null,
   "id": "1213b7b6-09ed-4194-a954-4a043ce2c051",
   "metadata": {},
   "outputs": [],
   "source": []
  }
 ],
 "metadata": {
  "kernelspec": {
   "display_name": "Python 3 (ipykernel)",
   "language": "python",
   "name": "python3"
  },
  "language_info": {
   "codemirror_mode": {
    "name": "ipython",
    "version": 3
   },
   "file_extension": ".py",
   "mimetype": "text/x-python",
   "name": "python",
   "nbconvert_exporter": "python",
   "pygments_lexer": "ipython3",
   "version": "3.10.6"
  },
  "varInspector": {
   "cols": {
    "lenName": 16,
    "lenType": 16,
    "lenVar": 40
   },
   "kernels_config": {
    "python": {
     "delete_cmd_postfix": "",
     "delete_cmd_prefix": "del ",
     "library": "var_list.py",
     "varRefreshCmd": "print(var_dic_list())"
    },
    "r": {
     "delete_cmd_postfix": ") ",
     "delete_cmd_prefix": "rm(",
     "library": "var_list.r",
     "varRefreshCmd": "cat(var_dic_list()) "
    }
   },
   "types_to_exclude": [
    "module",
    "function",
    "builtin_function_or_method",
    "instance",
    "_Feature"
   ],
   "window_display": false
  }
 },
 "nbformat": 4,
 "nbformat_minor": 5
}
